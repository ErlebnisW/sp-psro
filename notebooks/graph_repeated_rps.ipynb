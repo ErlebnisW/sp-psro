{
 "cells": [
  {
   "cell_type": "code",
   "execution_count": null,
   "metadata": {
    "pycharm": {
     "name": "#%%\n"
    },
    "scrolled": false
   },
   "outputs": [],
   "source": [
    "from typing import Optional, Tuple\n",
    "from grl.utils.graphing_utils import parse_run_results, graph_df_and_save_figure\n",
    "\n",
    "graph_title = \"4-Repeated RPS DDQN\"\n",
    "xlim: Optional[Tuple[float, float]] = (0, 1.1e7)\n",
    "ylim: Optional[Tuple[float, float]] = None\n",
    "use_approx_exploitability = False"
   ]
  },
  {
   "cell_type": "code",
   "execution_count": null,
   "metadata": {
    "pycharm": {
     "name": "#%%\n"
    },
    "scrolled": true
   },
   "outputs": [],
   "source": [
    "# All keys are expected to be in the format \"<algorithm name> <seed number>\".\n",
    "\n",
    "non_psro_runs = {\n",
    "\n",
    "}\n",
    "\n",
    "psro_runs = {\n",
    "    # Original experiment logs will be included in a deanonymized code release, and have been omitted due to identifying information.\n",
    "    \"SP-PSRO (Ours) 1\": \"/home/user/git/grl/grl/data/repeated_rps_psro_dqn_avg_pol/manager_01.58.48PM_May-17-2022/exploitability_stats.json\",\n",
    "    \"SP-PSRO (Ours) 2\": \"/home/user/git/grl/grl/data/repeated_rps_psro_dqn_avg_pol/manager_01.59.01PM_May-17-2022/exploitability_stats.json\",\n",
    "    \"SP-PSRO (Ours) 3\": \"/home/user/git/grl/grl/data/repeated_rps_psro_dqn_avg_pol/manager_01.59.42PM_May-17-2022/exploitability_stats.json\",\n",
    "\n",
    "    \"APSRO (Ours) 1\": \"/home/user/git/grl/grl/data/repeated_rps_psro_dqn/manager_08.43.04PM_May-17-2022/exploitability_stats.json\",\n",
    "    \"APSRO (Ours) 2\": \"/home/user/git/grl/grl/data/repeated_rps_psro_dqn/manager_08.43.33PM_May-17-2022/exploitability_stats.json\",\n",
    "    \"APSRO (Ours) 3\": \"/home/user/git/grl/grl/data/repeated_rps_psro_dqn/manager_08.44.20PM_May-17-2022/exploitability_stats.json\",\n",
    "\n",
    "    \"PSRO 1\": \"/home/user/git/grl/grl/data/repeated_rps_psro_dqn/manager_08.38.50PM_May-17-2022/exploitability_stats.json\",\n",
    "    \"PSRO 2\": \"/home/user/git/grl/grl/data/repeated_rps_psro_dqn/manager_08.40.09PM_May-17-2022/exploitability_stats.json\",\n",
    "    \"PSRO 3\": \"/home/user/git/grl/grl/data/repeated_rps_psro_dqn/manager_08.41.13PM_May-17-2022/exploitability_stats.json\",\n",
    "\n",
    "    \"SP-PSRO last-iterate 1\": \"/home/user/git/grl/grl/data/repeated_rps_psro_dqn/manager_08.44.49PM_May-17-2022/exploitability_stats.json\",\n",
    "    \"SP-PSRO last-iterate 2\": \"/home/user/git/grl/grl/data/repeated_rps_psro_dqn/manager_08.45.28PM_May-17-2022/exploitability_stats.json\",\n",
    "    \"SP-PSRO last-iterate 3\": \"/home/user/git/grl/grl/data/repeated_rps_psro_dqn/manager_08.47.11PM_May-17-2022/exploitability_stats.json\",\n",
    "}\n"
   ]
  },
  {
   "cell_type": "code",
   "execution_count": null,
   "metadata": {
    "pycharm": {
     "name": "#%%\n"
    },
    "scrolled": false
   },
   "outputs": [],
   "source": [
    "def resolve_missing_file(file_path: str) -> str:\n",
    "    from grl.utils.common import assets_dir\n",
    "    import os\n",
    "\n",
    "    if not os.path.exists(file_path):\n",
    "        file_relative_data_path = file_path.replace(\"/home/user/git/grl/grl/data/\", \"\")\n",
    "        alternate_path = os.path.join(assets_dir(), \"archived_data\", file_relative_data_path)\n",
    "        print(f\"using alternate_path: {alternate_path}\")\n",
    "        return alternate_path\n",
    "    return file_path\n",
    "\n",
    "df = parse_run_results(non_psro_run_dict=non_psro_runs,\n",
    "                       psro_run_dict=psro_runs,\n",
    "                       resolve_missing_file_before_read_callback=resolve_missing_file,\n",
    "                       parse_approximate_exploitability=use_approx_exploitability,\n",
    "                       manually_add_initial_untrained_policy_exploitability=3.999)"
   ]
  },
  {
   "cell_type": "code",
   "execution_count": null,
   "metadata": {
    "pycharm": {
     "name": "#%%\n"
    },
    "scrolled": false
   },
   "outputs": [],
   "source": [
    "graph_df_and_save_figure(\n",
    "    non_psro_run_dict=non_psro_runs,\n",
    "    psro_run_dict=psro_runs,\n",
    "    df=df,\n",
    "    title=graph_title,\n",
    "    xlim=xlim,\n",
    "    ylim=ylim,\n",
    "    use_approx_exploitability=use_approx_exploitability)\n"
   ]
  }
 ],
 "metadata": {
  "kernelspec": {
   "display_name": "PyCharm (grl_clean)",
   "language": "python",
   "name": "pycharm-d2ed3f3a"
  },
  "language_info": {
   "codemirror_mode": {
    "name": "ipython",
    "version": 3
   },
   "file_extension": ".py",
   "mimetype": "text/x-python",
   "name": "python",
   "nbconvert_exporter": "python",
   "pygments_lexer": "ipython3",
   "version": "3.8.12"
  }
 },
 "nbformat": 4,
 "nbformat_minor": 1
}
